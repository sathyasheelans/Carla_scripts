{
 "cells": [
  {
   "cell_type": "code",
   "execution_count": null,
   "id": "7ecdd999",
   "metadata": {},
   "outputs": [],
   "source": []
  },
  {
   "cell_type": "code",
   "execution_count": null,
   "id": "6e6b6dec-c0f6-4496-9b75-d74bcba07183",
   "metadata": {},
   "outputs": [],
   "source": [
    "import carla \n",
    "import math \n",
    "import random \n",
    "import time \n",
    "import numpy as np\n",
    "import cv2\n",
    "import open3d as o3d\n",
    "from matplotlib import cm\n",
    "\n",
    "# Connect the client and set up bp library and spawn point\n",
    "client = carla.Client('localhost', 2000)\n",
    "world = client.get_world()\n",
    "bp_lib = world.get_blueprint_library() \n",
    "spawn_points = world.get_map().get_spawn_points() "
   ]
  },
  {
   "cell_type": "code",
   "execution_count": null,
   "id": "d2ea3b34",
   "metadata": {},
   "outputs": [],
   "source": []
  },
  {
   "cell_type": "code",
   "execution_count": null,
   "id": "93c94c6a-4c3e-487b-8de9-823e440f3c43",
   "metadata": {},
   "outputs": [],
   "source": [
    "# Add vehicle\n",
    "vehicle_bp = bp_lib.find('vehicle.lincoln.mkz_2020') \n",
    "vehicle = world.try_spawn_actor(vehicle_bp, spawn_points[79])"
   ]
  },
  {
   "cell_type": "code",
   "execution_count": 26,
   "id": "8544d3a8-d8be-44c0-89f7-3cff803b796a",
   "metadata": {},
   "outputs": [
    {
     "data": {
      "text/plain": [
       "\"\\n# Add traffic and set in motion with Traffic Manager\\nfor i in range(100): \\n    vehicle_bp = random.choice(bp_lib.filter('vehicle')) \\n    npc = world.try_spawn_actor(vehicle_bp, random.choice(spawn_points))    \\nfor v in world.get_actors().filter('*vehicle*'): \\n    v.set_autopilot(True) \\n    \""
      ]
     },
     "execution_count": 26,
     "metadata": {},
     "output_type": "execute_result"
    }
   ],
   "source": [
    "# Move spectator to view ego vehicle\n",
    "spectator = world.get_spectator() \n",
    "transform = carla.Transform(vehicle.get_transform().transform(carla.Location(x=-4,z=2.5)),vehicle.get_transform().rotation) \n",
    "spectator.set_transform(transform)\n",
    "'''\n",
    "# Add traffic and set in motion with Traffic Manager\n",
    "for i in range(100): \n",
    "    vehicle_bp = random.choice(bp_lib.filter('vehicle')) \n",
    "    npc = world.try_spawn_actor(vehicle_bp, random.choice(spawn_points))    \n",
    "for v in world.get_actors().filter('*vehicle*'): \n",
    "    v.set_autopilot(True) \n",
    "    '''"
   ]
  },
  {
   "cell_type": "code",
   "execution_count": 11,
   "id": "47ab9521",
   "metadata": {},
   "outputs": [
    {
     "name": "stdout",
     "output_type": "stream",
     "text": [
      "Transform(Location(x=-24.336779, y=-57.785625, z=0.600000), Rotation(pitch=0.000000, yaw=0.596735, roll=0.000000))\n"
     ]
    }
   ],
   "source": [
    "print(spawn_points[10])\n",
    "waypoint_list=world.get_map().generate_waypoints(2.0)\n",
    "#print(waypoint_list)\n",
    "world.unload_map_layer(carla.MapLayer.All)\n"
   ]
  },
  {
   "cell_type": "code",
   "execution_count": 27,
   "id": "2e66f6a2",
   "metadata": {},
   "outputs": [
    {
     "ename": "",
     "evalue": "",
     "output_type": "error",
     "traceback": [
      "\u001b[1;31mThe Kernel crashed while executing code in the the current cell or a previous cell. Please review the code in the cell(s) to identify a possible cause of the failure. Click <a href='https://aka.ms/vscodeJupyterKernelCrash'>here</a> for more info. View Jupyter <a href='command:jupyter.viewOutput'>log</a> for further details."
     ]
    }
   ],
   "source": [
    "waypoints = world.get_map().generate_waypoints(2)\n",
    "for w in waypoints:\n",
    "    world.debug.draw_string(w.transform.location, 'O', draw_shadow=False,\n",
    "                                       color=carla.Color(r=255, g=0, b=0), life_time=120.0,\n",
    "                                       persistent_lines=True)"
   ]
  },
  {
   "cell_type": "code",
   "execution_count": 14,
   "id": "1491da1c",
   "metadata": {},
   "outputs": [],
   "source": [
    "vehicle.set_autopilot(False)\n",
    "vehicle_bp = random.choice(bp_lib.filter('vehicle')) \n",
    "npc = world.try_spawn_actor(vehicle_bp, random.choice(spawn_points))"
   ]
  },
  {
   "cell_type": "markdown",
   "id": "2bf52aaa",
   "metadata": {},
   "source": []
  },
  {
   "cell_type": "code",
   "execution_count": null,
   "id": "585e60b4-fd21-498b-adba-55f8a65f7f7f",
   "metadata": {},
   "outputs": [],
   "source": [
    "# Auxilliary code for colormaps and axes\n",
    "VIRIDIS = np.array(cm.get_cmap('plasma').colors)\n",
    "VID_RANGE = np.linspace(0.0, 1.0, VIRIDIS.shape[0])\n",
    "\n",
    "COOL_RANGE = np.linspace(0.0, 1.0, VIRIDIS.shape[0])\n",
    "COOL = np.array(cm.get_cmap('winter')(COOL_RANGE))\n",
    "COOL = COOL[:,:3]\n",
    "\n",
    "def add_open3d_axis(vis):\n",
    "    \"\"\"Add a small 3D axis on Open3D Visualizer\"\"\"\n",
    "    axis = o3d.geometry.LineSet()\n",
    "    axis.points = o3d.utility.Vector3dVector(np.array([\n",
    "        [0.0, 0.0, 0.0],\n",
    "        [1.0, 0.0, 0.0],\n",
    "        [0.0, 1.0, 0.0],\n",
    "        [0.0, 0.0, 1.0]]))\n",
    "    axis.lines = o3d.utility.Vector2iVector(np.array([\n",
    "        [0, 1],\n",
    "        [0, 2],\n",
    "        [0, 3]]))\n",
    "    axis.colors = o3d.utility.Vector3dVector(np.array([\n",
    "        [1.0, 0.0, 0.0],\n",
    "        [0.0, 1.0, 0.0],\n",
    "        [0.0, 0.0, 1.0]]))\n",
    "    vis.add_geometry(axis)"
   ]
  },
  {
   "cell_type": "code",
   "execution_count": null,
   "id": "87378074-2d23-4c35-96d9-653504deea64",
   "metadata": {},
   "outputs": [],
   "source": [
    "# LIDAR and RADAR callbacks\n",
    "\n",
    "def lidar_callback(point_cloud, point_list):\n",
    "    \"\"\"Prepares a point cloud with intensity\n",
    "    colors ready to be consumed by Open3D\"\"\"\n",
    "    data = np.copy(np.frombuffer(point_cloud.raw_data, dtype=np.dtype('f4')))\n",
    "    data = np.reshape(data, (int(data.shape[0] / 4), 4))\n",
    "\n",
    "    # Isolate the intensity and compute a color for it\n",
    "    intensity = data[:, -1]\n",
    "    intensity_col = 1.0 - np.log(intensity) / np.log(np.exp(-0.004 * 100))\n",
    "    int_color = np.c_[\n",
    "        np.interp(intensity_col, VID_RANGE, VIRIDIS[:, 0]),\n",
    "        np.interp(intensity_col, VID_RANGE, VIRIDIS[:, 1]),\n",
    "        np.interp(intensity_col, VID_RANGE, VIRIDIS[:, 2])]\n",
    "\n",
    "    points = data[:, :-1]\n",
    "\n",
    "    points[:, :1] = -points[:, :1]\n",
    "\n",
    "    point_list.points = o3d.utility.Vector3dVector(points)\n",
    "    point_list.colors = o3d.utility.Vector3dVector(int_color)"
   ]
  },
  {
   "cell_type": "code",
   "execution_count": null,
   "id": "841363c1-862c-45eb-8990-47d5aaa55261",
   "metadata": {},
   "outputs": [],
   "source": [
    "# Set up LIDAR and RADAR, parameters are to assisst visualisation\n",
    "\n",
    "lidar_bp = bp_lib.find('sensor.lidar.ray_cast') \n",
    "lidar_bp.set_attribute('range', '100.0')\n",
    "lidar_bp.set_attribute('noise_stddev', '0.1')\n",
    "lidar_bp.set_attribute('upper_fov', '15.0')\n",
    "lidar_bp.set_attribute('lower_fov', '-25.0')\n",
    "lidar_bp.set_attribute('channels', '64.0')\n",
    "lidar_bp.set_attribute('rotation_frequency', '0.0')\n",
    "lidar_bp.set_attribute('points_per_second', '500000')\n",
    "    \n",
    "lidar_init_trans = carla.Transform(carla.Location(z=2))\n",
    "lidar = world.spawn_actor(lidar_bp, lidar_init_trans, attach_to=vehicle)\n",
    "\n",
    "radar_bp = bp_lib.find('sensor.other.radar') \n",
    "radar_bp.set_attribute('horizontal_fov', '30.0')\n",
    "radar_bp.set_attribute('vertical_fov', '30.0')\n",
    "radar_bp.set_attribute('points_per_second', '10000')\n",
    "radar_init_trans = carla.Transform(carla.Location(z=2))\n",
    "radar = world.spawn_actor(radar_bp, radar_init_trans, attach_to=vehicle)\n",
    "\n",
    "# Spawn camera\n",
    "camera_bp = bp_lib.find('sensor.camera.rgb') \n",
    "camera_init_trans = carla.Transform(carla.Location(z=2.5, x=-3), carla.Rotation())\n",
    "camera = world.spawn_actor(camera_bp, camera_init_trans, attach_to=vehicle)\n",
    "\n",
    "# Add auxilliary data structures\n",
    "point_list = o3d.geometry.PointCloud()\n",
    "radar_list = o3d.geometry.PointCloud()\n",
    "\n",
    "# Set up dictionary for camera data\n",
    "image_w = camera_bp.get_attribute(\"image_size_x\").as_int()\n",
    "image_h = camera_bp.get_attribute(\"image_size_y\").as_int()\n",
    "camera_data = {'image': np.zeros((image_h, image_w, 4))} \n",
    "\n",
    "# Start sensors\n",
    "lidar.listen(lambda data: lidar_callback(data, point_list))\n",
    "radar.listen(lambda data: radar_callback(data, radar_list))\n",
    "camera.listen(lambda image: camera_callback(image, camera_data))"
   ]
  },
  {
   "cell_type": "code",
   "execution_count": null,
   "id": "1e7043c7",
   "metadata": {},
   "outputs": [],
   "source": [
    "from cgi import test\n",
    "import carla\n",
    "import numpy as np\n",
    "import math\n",
    "\n",
    "def spawn_vehicles_around_ego_vehicles(ego_vehicle, radius, spawn_points, numbers_of_vehicles):\n",
    "    # parameters:\n",
    "    # ego_vehicle :: your target vehicle\n",
    "    # radius :: the distance limitation between ego-vehicle and other free-vehicles\n",
    "    # spawn_points  :: the available spawn points in current map\n",
    "    # numbers_of_vehicles :: the number of free-vehicles around ego-vehicle that you need\n",
    "    np.random.shuffle(spawn_points)  # shuffle  all the spawn points\n",
    "    ego_location = ego_vehicle.get_location()\n",
    "    accessible_points = []\n",
    "    for spawn_point in spawn_points:\n",
    "        dis = math.sqrt((ego_location.x-spawn_point.location.x)**2 + (ego_location.y-spawn_point.location.y)**2)\n",
    "        # it also can include z-coordinate,but it is unnecessary\n",
    "        if dis < radius:\n",
    "            print(dis)\n",
    "            accessible_points.append(spawn_point)\n",
    "\n",
    "    vehicle_bps = world.get_blueprint_library().filter('vehicle.*.*')   # don't specify the type of vehicle\n",
    "    vehicle_bps = [x for x in vehicle_bps if int(x.get_attribute('number_of_wheels')) == 4]  # only choose car with 4 wheels\n",
    "\n",
    "    vehicle_list = []  # keep the spawned vehicle in vehicle_list, because we need to link them with traffic_manager\n",
    "    if len(accessible_points) < numbers_of_vehicles:\n",
    "        # if your radius is relatively small,the satisfied points may be insufficient\n",
    "        numbers_of_vehicles = len(accessible_points)\n",
    "\n",
    "    for i in range(numbers_of_vehicles):  # generate the free vehicle\n",
    "        point = accessible_points[i]\n",
    "        vehicle_bp = np.random.choice(vehicle_bps)\n",
    "        try:\n",
    "            vehicle = world.spawn_actor(vehicle_bp, point)\n",
    "            vehicle_list.append(vehicle)\n",
    "        except:\n",
    "            print('failed')  # if failed, print the hints.\n",
    "            pass\n",
    "# you also can add those free vehicle into trafficemanager,and set them to autopilot.\n",
    "# Only need to get rid of comments for below code. Otherwise, the those vehicle will be static\n",
    "    # tm = client.get_trafficmanager()  # create a TM object\n",
    "    # tm.global_percentage_speed_difference(10.0)  # set the global speed limitation\n",
    "    # tm_port = tm.get_port()  # get the port of tm. we need add vehicle to tm by this port\n",
    "    # for v in vehicle_list:  # set every vehicle's mode\n",
    "    #     v.set_autopilot(True, tm_port)  # you can get those functions detail in carla document\n",
    "    #     tm.ignore_lights_percentage(v, 0)\n",
    "    #     tm.distance_to_leading_vehicle(v, 0.5)\n",
    "    #     tm.vehicle_percentage_speed_difference(v, -20)\n",
    "# create client object\n",
    "client = carla.Client(\"localhost\", 2000)\n",
    "client.set_timeout(10)\n",
    "\n",
    "# create world object\n",
    "world = client.load_world('Town05')\n",
    "spawn_points = world.get_map().get_spawn_points()\n",
    "print(spawn_points)\n",
    "model3_bp = world.get_blueprint_library().find('vehicle.tesla.model3')\n",
    "model3_bp.set_attribute('color', '255,0,0')   # set vehicle's color to red\n",
    "test_spawn=carla.Transform(carla.Location(120.004814,136.571930,10.0),carla.Rotation(0,90,0))\n",
    "model3_spawn_point = np.random.choice(spawn_points)\n",
    "print(model3_spawn_point,test_spawn)\n",
    "model3_actor = world.spawn_actor(model3_bp, test_spawn)\n",
    "spawn_vehicles_around_ego_vehicles(ego_vehicle=model3_actor, radius=100,\n",
    "                                   spawn_points=test_spawn, numbers_of_vehicles=1)\n",
    " # model3_actor.set_autopilot(True)  # set the ego-vehicle to autopilot"
   ]
  },
  {
   "cell_type": "code",
   "execution_count": null,
   "id": "0e3e1f3b-dee6-4c20-83c2-20584766d1e8",
   "metadata": {},
   "outputs": [],
   "source": [
    "# OpenCV window for camera\n",
    "cv2.namedWindow('RGB Camera', cv2.WINDOW_AUTOSIZE)\n",
    "cv2.imshow('RGB Camera', camera_data['image'])\n",
    "cv2.waitKey(1)\n",
    "\n",
    "\n",
    "# Open3D visualiser for LIDAR and RADAR\n",
    "vis = o3d.visualization.Visualizer()\n",
    "vis.create_window(\n",
    "    window_name='Carla Lidar',\n",
    "    width=960,\n",
    "    height=540,\n",
    "    left=480,\n",
    "    top=270)\n",
    "vis.get_render_option().background_color = [0.05, 0.05, 0.05]\n",
    "vis.get_render_option().point_size = 1\n",
    "vis.get_render_option().show_coordinate_frame = True\n",
    "add_open3d_axis(vis)\n",
    "\n",
    "# Update geometry and camera in game loop\n",
    "frame = 0\n",
    "while True:\n",
    "    if frame == 2:\n",
    "        vis.add_geometry(point_list)\n",
    "        vis.add_geometry(radar_list)\n",
    "    vis.update_geometry(point_list)\n",
    "    vis.update_geometry(radar_list)\n",
    "    \n",
    "    vis.poll_events()\n",
    "    vis.update_renderer()\n",
    "    # # This can fix Open3D jittering issues:\n",
    "    time.sleep(0.005)\n",
    "    frame += 1\n",
    "\n",
    "    cv2.imshow('RGB Camera', camera_data['image'])\n",
    "    \n",
    "    # Break if user presses 'q'\n",
    "    if cv2.waitKey(1) == ord('q'):\n",
    "        break\n",
    "\n",
    "# Close displayws and stop sensors\n",
    "cv2.destroyAllWindows()\n",
    "radar.stop()\n",
    "radar.destroy()\n",
    "lidar.stop()\n",
    "lidar.destroy()\n",
    "camera.stop()\n",
    "camera.destroy()\n",
    "vis.destroy_window()\n",
    "\n",
    "for actor in world.get_actors().filter('*vehicle*'):\n",
    "    actor.destroy()\n",
    "for actor in world.get_actors().filter('*sensor*'):\n",
    "    actor.destroy()"
   ]
  }
 ],
 "metadata": {
  "kernelspec": {
   "display_name": "Python 3.7.13 ('working')",
   "language": "python",
   "name": "python3"
  },
  "language_info": {
   "codemirror_mode": {
    "name": "ipython",
    "version": 3
   },
   "file_extension": ".py",
   "mimetype": "text/x-python",
   "name": "python",
   "nbconvert_exporter": "python",
   "pygments_lexer": "ipython3",
   "version": "3.7.13"
  },
  "vscode": {
   "interpreter": {
    "hash": "bcf777e2ff8130dfd2b1705e2d6bb8e79a39708afc967d659b402e6656d1d5ad"
   }
  }
 },
 "nbformat": 4,
 "nbformat_minor": 5
}
