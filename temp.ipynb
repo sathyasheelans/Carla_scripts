{
 "cells": [
  {
   "cell_type": "code",
   "execution_count": 81,
   "metadata": {},
   "outputs": [
    {
     "name": "stdout",
     "output_type": "stream",
     "text": [
      "629\n"
     ]
    }
   ],
   "source": [
    "import math\n",
    "\n",
    "a = 2\n",
    "b = 3\n",
    "r = 20\n",
    "\n",
    "#The lower this value the higher quality the circle is with more points generated\n",
    "stepSize = 0.01\n",
    "\n",
    "#Generated vertices\n",
    "positions = []\n",
    "\n",
    "t = 0\n",
    "while t < 2 * math.pi:\n",
    "    positions.append((r * math.cos(t) + a, r * math.sin(t) + b,0.6))\n",
    "    t += stepSize\n",
    "\n",
    "print(len(positions))"
   ]
  },
  {
   "cell_type": "code",
   "execution_count": null,
   "metadata": {},
   "outputs": [],
   "source": [
    "import numpy as np\n",
    "import numpy as np\n",
    "from scipy.interpolate import make_interp_spline\n",
    "import matplotlib.pyplot as plt\n",
    "import pickle\n",
    "\n",
    "# Dataset\n",
    "x = np.array([-10, -5, 5, 10])\n",
    "y = np.array([ 0, 2, 2, 0])\n",
    "\n",
    "X_Y_Spline = make_interp_spline(x, y)\n",
    "\n",
    "# Returns evenly spaced numbers\n",
    "# over a specified interval.\n",
    "X_ = np.linspace(x.min(), x.max(), 30)\n",
    "Y_ = X_Y_Spline(X_)\n",
    "\n",
    "x1=np.linspace(-25,-10,30)\n",
    "x2=np.linspace(10,25,30)\n",
    "y0=np.zeros(30)\n",
    "\n",
    "xf1=np.append(x1,X_)\n",
    "yf2=np.append(y0,Y_)\n",
    "\n",
    "xf=np.append(xf1,x2)\n",
    "yf=np.append(yf2,y0)\n",
    "\n",
    "\n",
    "zf=np.full(len(xf),0.6)\n",
    "lst=list(zip(xf,yf,zf))\n",
    "final=list(set([i for i in lst]))\n",
    "#final1 = np.asarray([ list(a) for a in final])\n",
    "\n",
    "print(final)\n",
    "print(len(final))\n",
    "print(len(xf))\n",
    "print(len(yf))\n",
    "\n",
    "# Plotting the Graph\n",
    "plt.plot(xf, yf)\n",
    "plt.title(\"Plot Smooth Curve Using the scipy.interpolate.make_interp_spline() Class\")\n",
    "plt.xlabel(\"X\")\n",
    "plt.ylabel(\"Y\")\n",
    "plt.show()\n"
   ]
  },
  {
   "cell_type": "code",
   "execution_count": 41,
   "metadata": {},
   "outputs": [],
   "source": [
    "import numpy as np\n",
    "import numpy as np\n",
    "from scipy.interpolate import make_interp_spline\n",
    "import matplotlib.pyplot as plt\n",
    "import pickle"
   ]
  },
  {
   "cell_type": "code",
   "execution_count": 42,
   "metadata": {},
   "outputs": [],
   "source": [
    "with open('/home/santhanam.17/Carla_scripts/point_cloud_database_main_optimized.pickle', 'rb') as handle:\n",
    "    read_dict = pickle.load(handle)"
   ]
  },
  {
   "cell_type": "code",
   "execution_count": 72,
   "metadata": {},
   "outputs": [
    {
     "name": "stdout",
     "output_type": "stream",
     "text": [
      "(32.0, 1.9594349641362686e-15, 0.1478431224822998, 100.0, 32)\n"
     ]
    }
   ],
   "source": [
    "keys=list(read_dict.keys())\n",
    "print(keys[10000])"
   ]
  },
  {
   "cell_type": "code",
   "execution_count": 43,
   "metadata": {},
   "outputs": [],
   "source": [
    "def closest_point(arr, orr):\n",
    "    Ego_postion=np.array([0,0,0])\n",
    "    dist = round(np.linalg.norm(arr - Ego_postion))\n",
    "    lst=list(range(-180,180,1))\n",
    "    closet_yaw_rate=lst[min(range(len(lst)), key = lambda i: abs(lst[i]-orr))]\n",
    "    closest_keys=[k for k in keys if k[4]==dist and k[3]==closet_yaw_rate ]\n",
    "    closest_points_with_yaw=np.array([[key[0],key[1],key[2],key[3]] for key in closest_keys])\n",
    "    #rospy.loginfo(closest_points_with_yaw)\n",
    "    closest_points=np.array([[key[0],key[1],key[2]] for key in closest_keys])\n",
    "    dist_2 = np.sum((closest_points - arr)**2, axis=1)\n",
    "    #rospy.loginfo(closest_points[np.argmin(dist_2)])\n",
    "    closest_key=closest_points_with_yaw[np.argmin(dist_2)]\n",
    "    closest_key=np.append(closest_key,dist)\n",
    "\n",
    "    pcd=read_dict[tuple(list(closest_key))]\n",
    "    \n",
    "    \"\"\"rospy.loginfo(np.linalg.norm(arr - Ego_postion))\n",
    "    rospy.loginfo(dist)\n",
    "    rospy.loginfo(tuple(list(closest_key)))\n",
    "    rospy.loginfo(pcd)\"\"\"\n",
    "    #rospy.loginfo(len(closest_points))\n",
    "    return pcd"
   ]
  },
  {
   "cell_type": "code",
   "execution_count": 66,
   "metadata": {},
   "outputs": [
    {
     "name": "stdout",
     "output_type": "stream",
     "text": [
      "120\n",
      "90\n",
      "[(120.0, 7.347880374357178e-15, 0.14402392506599426, 90.0, 120)]\n",
      "[[ 7.10418312e-315  0.00000000e+000  6.21648314e-310]\n",
      " [ 1.19784363e+002 -3.18016797e-001 -9.95557845e-001]\n",
      " [ 1.19268639e+002 -2.19234991e+000 -1.98302293e+000]\n",
      " [ 1.19114258e+002 -1.81480002e+000 -1.98035085e+000]\n",
      " [ 1.19094810e+002 -1.43988883e+000 -1.97994292e+000]\n",
      " [ 1.19349991e+002 -1.06758547e+000 -1.98411953e+000]\n",
      " [ 1.19087273e+002 -6.90693855e-001 -1.97970605e+000]\n",
      " [ 1.19089256e+002 -3.16171378e-001 -1.97971261e+000]\n",
      " [ 1.19094498e+002  5.83589450e-002 -1.97979331e+000]\n",
      " [ 1.19101677e+002  4.32962269e-001 -1.97992551e+000]\n",
      " [ 1.19109932e+002  8.07594001e-001 -1.98009491e+000]\n",
      " [ 1.19094810e+002  1.18206310e+000 -1.97989559e+000]\n",
      " [ 1.19094810e+002  1.55665755e+000 -1.97996736e+000]\n",
      " [ 1.19129883e+002  1.93185174e+000 -1.98064148e+000]\n",
      " [ 1.19447716e+002  2.31277871e+000 -1.98603666e+000]\n",
      " [ 1.19818253e+002 -2.40598202e-001 -9.95837867e-001]\n",
      " [ 1.19219040e+002 -2.11321306e+000 -1.98217463e+000]\n",
      " [ 1.19349991e+002 -1.74031126e+000 -1.98425102e+000]\n",
      " [ 1.19094803e+002 -1.36220407e+000 -1.97992742e+000]\n",
      " [ 1.19086121e+002 -9.87773180e-001 -1.97972143e+000]\n",
      " [ 1.19087563e+002 -6.13467693e-001 -1.97970390e+000]\n",
      " [ 1.19089813e+002 -2.39135399e-001 -1.97971904e+000]\n",
      " [ 1.19096016e+002  1.35178432e-001 -1.97981966e+000]\n",
      " [ 1.19103477e+002  5.09540021e-001 -1.97996044e+000]\n",
      " [ 1.19111267e+002  8.83960485e-001 -1.98012614e+000]\n",
      " [ 1.19094810e+002  1.25819206e+000 -1.97990835e+000]\n",
      " [ 1.19094810e+002  1.63260210e+000 -1.97998428e+000]\n",
      " [ 1.19151695e+002  2.00797057e+000 -1.98102486e+000]\n",
      " [ 1.19618530e+002  2.39193439e+000 -1.98890197e+000]]\n"
     ]
    }
   ],
   "source": [
    "arr=np.array([120,30,0])\n",
    "orr=90\n",
    "\n",
    "Ego_postion=np.array([0,0,0])\n",
    "dist = round(np.linalg.norm(arr - Ego_postion))\n",
    "if dist>=120:\n",
    "    dist=120\n",
    "lst=list(range(-180,180,1))\n",
    "closet_yaw_rate=lst[min(range(len(lst)), key = lambda i: abs(lst[i]-orr))]\n",
    "closest_keys=[k for k in keys if k[4]==dist and k[3]==closet_yaw_rate ]\n",
    "\"\"\"closest_points_with_yaw=np.array([[key[0],key[1],key[2],key[3]] for key in closest_keys])\n",
    "#rospy.loginfo(closest_points_with_yaw)\n",
    "closest_points=np.array([[key[0],key[1],key[2]] for key in closest_keys])\n",
    "dist_2 = np.sum((closest_points - arr)**2, axis=1)\n",
    "#rospy.loginfo(closest_points[np.argmin(dist_2)])\n",
    "closest_key=closest_points_with_yaw[np.argmin(dist_2)]\n",
    "closest_key=np.append(closest_key,dist)\"\"\"\n",
    "\n",
    "pcd=read_dict[closest_keys[0]]\n",
    "#print(pcd)\n",
    "print(dist)\n",
    "print(closet_yaw_rate)\n",
    "print(closest_keys)\n",
    "print(read_dict[closest_keys[0]])"
   ]
  }
 ],
 "metadata": {
  "kernelspec": {
   "display_name": "Python 3.7.13 ('working')",
   "language": "python",
   "name": "python3"
  },
  "language_info": {
   "codemirror_mode": {
    "name": "ipython",
    "version": 3
   },
   "file_extension": ".py",
   "mimetype": "text/x-python",
   "name": "python",
   "nbconvert_exporter": "python",
   "pygments_lexer": "ipython3",
   "version": "3.7.13"
  },
  "orig_nbformat": 4,
  "vscode": {
   "interpreter": {
    "hash": "bcf777e2ff8130dfd2b1705e2d6bb8e79a39708afc967d659b402e6656d1d5ad"
   }
  }
 },
 "nbformat": 4,
 "nbformat_minor": 2
}
