{
 "cells": [
  {
   "cell_type": "code",
   "execution_count": 27,
   "metadata": {},
   "outputs": [],
   "source": [
    "\n",
    "## Import Carla and other packages\n",
    "import carla \n",
    "import math \n",
    "import random \n",
    "import time \n",
    "import numpy as np\n",
    "import cv2\n",
    "import open3d as o3d\n",
    "from matplotlib import cm\n",
    "import glob\n",
    "import os\n",
    "import sys\n",
    "import argparse\n",
    "from datetime import datetime\n",
    "import random\n",
    "import pickle\n"
   ]
  },
  {
   "cell_type": "code",
   "execution_count": 28,
   "metadata": {},
   "outputs": [],
   "source": [
    "st = time.time()\n",
    "with open('/home/santhanam.17/Carla_scripts/point_cloud_database_main_optimized_2.pickle', 'rb') as handle:\n",
    "    read_dict = pickle.load(handle)\n",
    "et= time.time()\n",
    "Keys=list(read_dict.keys())\n",
    "pcd =read_dict[Keys[5]]\n",
    "\n",
    "\n"
   ]
  },
  {
   "cell_type": "code",
   "execution_count": 29,
   "metadata": {},
   "outputs": [],
   "source": [
    "st = time.time()\n",
    "with open('/home/santhanam.17/Carla_scripts/point_cloud_database_main_optimized_mini.pickle', 'rb') as handle:\n",
    "    read_dict_semantic = pickle.load(handle)\n",
    "et= time.time()\n",
    "Keys_semantic=list(read_dict_semantic.keys())\n",
    "pcd_semantic =read_dict_semantic[Keys_semantic[5]]\n",
    "#print(read_dict.keys())"
   ]
  },
  {
   "cell_type": "code",
   "execution_count": 30,
   "metadata": {},
   "outputs": [
    {
     "name": "stdout",
     "output_type": "stream",
     "text": [
      "41760\n",
      "-0.18441486358642578\n",
      "(7.0, 0.0, 0.14784008264541626, 280.0, 7)\n",
      "9726\n",
      "(7.0, 0.0, 0.14781108498573303, 280.0, 7)\n",
      "10631\n"
     ]
    }
   ],
   "source": [
    "print(len(read_dict))\n",
    "print(st-et)\n",
    "print(Keys[1000])\n",
    "pcd =read_dict[Keys[1000]]\n",
    "print(len(pcd))\n",
    "\n",
    "print(Keys_semantic[1000])\n",
    "pcd_semantic =read_dict_semantic[Keys_semantic[359]]\n",
    "print(len(pcd_semantic))\n",
    "#print(x[281879])"
   ]
  },
  {
   "cell_type": "code",
   "execution_count": 31,
   "metadata": {},
   "outputs": [
    {
     "name": "stdout",
     "output_type": "stream",
     "text": [
      "[[1.01 2.05 3.08 0.5 ]\n",
      " [4.02 4.99 6.02 0.8 ]\n",
      " [7.08 8.01 8.99 0.2 ]]\n"
     ]
    }
   ],
   "source": [
    "import numpy as np\n",
    "from scipy.spatial.distance import cdist\n",
    "\n",
    "# Sample data\n",
    "A = np.array([[1, 2, 3],\n",
    "              [4, 5, 6],\n",
    "              [7, 8, 9]])\n",
    "\n",
    "B = np.array([[1.01, 2.05, 3.08, 0.5],\n",
    "              [4.02, 4.99, 6.02, 0.8],\n",
    "              [7.08, 8.01, 8.99, 0.2],\n",
    "              [2, 7, 8, 0.03]])\n",
    "\n",
    "# Compute pairwise distances between A and B's coordinates\n",
    "distances = cdist(A, B[:, :3])\n",
    "\n",
    "# Find the indices of the closest coordinates\n",
    "closest_indices = np.argmin(distances, axis=1)\n",
    "\n",
    "# Retrieve the closest coordinates and corresponding intensity values from B\n",
    "closest_coordinates = B[closest_indices, :3]\n",
    "intensity_values = B[closest_indices, 3]\n",
    "\n",
    "# Add the intensity_values as the 4th column to closest_coordinates\n",
    "closest_orientation = np.concatenate((closest_coordinates, intensity_values[:, np.newaxis]), axis=1)\n",
    "\n",
    "print(closest_orientation)\n"
   ]
  },
  {
   "cell_type": "code",
   "execution_count": null,
   "metadata": {},
   "outputs": [],
   "source": [
    "import numpy as np\n",
    "from scipy.spatial import cKDTree\n",
    "B=np.round(pcd_semantic, decimals=2)\n",
    "A = np.copy(pcd)\n",
    "A[:, :3] = np.round(A[:, :3], decimals=2)\n",
    "#print(A)\n",
    "A_values = A[:, :3]\n",
    "A_intensities = A[:, 3]\n",
    "\n",
    "tree = cKDTree(A_values)\n",
    "\n",
    "distances, indices = tree.query(B, k=1)\n",
    "\n",
    "corresponding_intensities = np.where(distances == 0, A_intensities[indices], 0)\n",
    "\n",
    "C = np.column_stack((pcd_semantic, corresponding_intensities))\n",
    "print(np.shape(B))\n",
    "print(np.shape(C))\n",
    "print(C)\n"
   ]
  },
  {
   "cell_type": "code",
   "execution_count": 33,
   "metadata": {},
   "outputs": [],
   "source": [
    "# Assuming a particular point p is a 1x3 NumPy array\n",
    "p = np.array([0, 0, 0])\n",
    "\n",
    "# Calculate the distances from p to each point in A\n",
    "d = np.linalg.norm(pcd_semantic - p, axis=1)"
   ]
  },
  {
   "cell_type": "code",
   "execution_count": 34,
   "metadata": {},
   "outputs": [
    {
     "data": {
      "text/plain": [
       "array([0.        , 5.28622959, 5.2565023 , ..., 3.44466319, 3.5157343 ,\n",
       "       3.71322376])"
      ]
     },
     "execution_count": 34,
     "metadata": {},
     "output_type": "execute_result"
    }
   ],
   "source": [
    "d"
   ]
  },
  {
   "cell_type": "code",
   "execution_count": 46,
   "metadata": {},
   "outputs": [],
   "source": [
    "result = np.exp(-0.5 * d)\n",
    "result=result*255"
   ]
  },
  {
   "cell_type": "code",
   "execution_count": 47,
   "metadata": {},
   "outputs": [],
   "source": [
    "result_1=np.concatenate((pcd_semantic, result[:, np.newaxis]), axis=1)"
   ]
  },
  {
   "cell_type": "code",
   "execution_count": 48,
   "metadata": {},
   "outputs": [
    {
     "data": {
      "text/plain": [
       "array([[ 5.52625310e-316,  0.00000000e+000,  6.21648314e-310,\n",
       "         2.55000000e+002],\n",
       "       [ 5.13358641e+000, -6.33549690e-001, -1.09047174e+000,\n",
       "         1.81405316e+001],\n",
       "       [ 5.10666466e+000, -6.14003301e-001, -1.08433962e+000,\n",
       "         1.84121799e+001],\n",
       "       ...,\n",
       "       [ 2.87493348e+000,  7.96264112e-001, -1.72233140e+000,\n",
       "         4.55555266e+001],\n",
       "       [ 2.93168426e+000,  8.21900010e-001, -1.75786674e+000,\n",
       "         4.39651113e+001],\n",
       "       [ 3.09362721e+000,  8.77785325e-001, -1.85660827e+000,\n",
       "         3.98312454e+001]])"
      ]
     },
     "execution_count": 48,
     "metadata": {},
     "output_type": "execute_result"
    }
   ],
   "source": [
    "result_1\n"
   ]
  },
  {
   "cell_type": "code",
   "execution_count": null,
   "metadata": {},
   "outputs": [],
   "source": [
    "B=np.round(pcd_semantic, decimals=3)\n",
    "A = np.copy(pcd)\n",
    "A[:, :3] = np.round(A[:, :3], decimals=3)\n",
    "print(A)\n",
    "\n",
    "\n",
    "\n",
    "# Check which column in A has the same values as B\n",
    "matching_column = np.isin(A[:, :3], B).all(axis=1)\n",
    "\n",
    "#rospy.loginfo(np.shape(matching_column))\n",
    "# Extract the corresponding fourth column from A\n",
    "matching_values = A[matching_column][:, 3]\n",
    "print(len(matching_values))\n",
    "print(len(matching_column))\n",
    "fourth_column = np.where(matching_column, A[np.argmax(np.isin(A[:, :3], B), axis=1), 3], 0)\n",
    "#fourth_column = np.where(matching_column, A[matching_column,3], 0)\n",
    "print(np.shape(B))\n",
    "print(np.shape(A))\n",
    "print(np.shape(fourth_column[:,None]))\n",
    "#print(matching_values)\n",
    "\n",
    "# Append the matching values to B\n",
    "real_pointcloud_with_intensity = np.concatenate((B, fourth_column[:, None]), axis=1)"
   ]
  },
  {
   "cell_type": "code",
   "execution_count": null,
   "metadata": {},
   "outputs": [],
   "source": [
    "\n",
    "from matplotlib import pyplot as plt\n",
    "pcd =read_dict[Keys[300]]\n",
    "print(len(pcd))\n",
    "pcd = [x for x in pcd if x[0]!=0 and x[1]!=0]\n",
    "pcd = np.unique(pcd, axis =0)\n",
    "print(len(pcd))\n",
    "#print((pcd))\n",
    "print(len(Keys[300]))\n",
    "\n",
    "\"\"\"point_cloud = o3d.geometry.PointCloud()\n",
    "point_cloud.points = o3d.utility.Vector3dVector(pcd)\n",
    "point_cloud=o3d.geometry.PointCloud.\n",
    "\n",
    "pcd=np.asarray(point_cloud.points)\"\"\"\n",
    "list_of_x=[x[0] for x in pcd]\n",
    "list_of_y=[x[1] for x in pcd]\n",
    "list_of_z=[x[2] for x in pcd]\n",
    "ax = plt.axes(projection ='3d')\n",
    "\n",
    "ax.scatter(list_of_x,list_of_y,list_of_z)\n",
    "\n",
    "print(len([x[3] for x in pcd if x[3]!=0]))\n"
   ]
  },
  {
   "cell_type": "code",
   "execution_count": null,
   "metadata": {},
   "outputs": [],
   "source": []
  }
 ],
 "metadata": {
  "kernelspec": {
   "display_name": "Python 3.7.13 ('working')",
   "language": "python",
   "name": "python3"
  },
  "language_info": {
   "codemirror_mode": {
    "name": "ipython",
    "version": 3
   },
   "file_extension": ".py",
   "mimetype": "text/x-python",
   "name": "python",
   "nbconvert_exporter": "python",
   "pygments_lexer": "ipython3",
   "version": "3.7.13"
  },
  "orig_nbformat": 4,
  "vscode": {
   "interpreter": {
    "hash": "bcf777e2ff8130dfd2b1705e2d6bb8e79a39708afc967d659b402e6656d1d5ad"
   }
  }
 },
 "nbformat": 4,
 "nbformat_minor": 2
}
