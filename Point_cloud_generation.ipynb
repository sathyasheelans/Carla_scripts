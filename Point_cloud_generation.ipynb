{
 "cells": [
  {
   "cell_type": "code",
   "execution_count": null,
   "metadata": {},
   "outputs": [],
   "source": [
    "\n",
    "## Import Carla and other packages\n",
    "import carla \n",
    "import math \n",
    "import random \n",
    "import time \n",
    "import numpy as np\n",
    "import cv2\n",
    "import open3d as o3d\n",
    "from matplotlib import cm\n",
    "import glob\n",
    "import os\n",
    "import sys\n",
    "import argparse\n",
    "from datetime import datetime\n",
    "import random\n",
    "\n"
   ]
  },
  {
   "cell_type": "code",
   "execution_count": null,
   "metadata": {},
   "outputs": [],
   "source": [
    "\n",
    "# Connect the client and set up bp library and spawn point\n",
    "client = carla.Client('localhost', 2000)\n",
    "world = client.get_world()\n",
    "bp_lib = world.get_blueprint_library() \n",
    "spawn_points = world.get_map().get_spawn_points() "
   ]
  },
  {
   "cell_type": "code",
   "execution_count": null,
   "metadata": {},
   "outputs": [],
   "source": [
    "#Unload all the unwaned things from the world\n",
    "\n",
    "world.unload_map_layer(carla.MapLayer.Foliage)\n",
    "world.unload_map_layer(carla.MapLayer.Buildings)\n",
    "world.unload_map_layer(carla.MapLayer.Decals)\n",
    "world.unload_map_layer(carla.MapLayer.ParkedVehicles)\n",
    "world.unload_map_layer(carla.MapLayer.Props)\n",
    "world.unload_map_layer(carla.MapLayer.StreetLights)\n",
    "world.unload_map_layer(carla.MapLayer.Walls)\n",
    "world.unload_map_layer(carla.MapLayer.Particles)\n",
    "world.load_map_layer(carla.MapLayer.Ground)"
   ]
  },
  {
   "cell_type": "code",
   "execution_count": null,
   "metadata": {},
   "outputs": [],
   "source": [
    "##Selecting a random spawn point for the ego vehicle\n",
    "spawnPoint=carla.Transform(carla.Location(x=0,y=0, z=0.598),carla.Rotation(pitch=0.0, yaw=0.0, roll=0.000000))"
   ]
  },
  {
   "cell_type": "code",
   "execution_count": null,
   "metadata": {},
   "outputs": [],
   "source": [
    "#Spawn Ego vehicle\n",
    "Ego_Vehicle_bp = bp_lib.find('vehicle.lincoln.mkz_2020') \n",
    "Ego_Vehicle = world.try_spawn_actor(Ego_Vehicle_bp, spawnPoint)"
   ]
  },
  {
   "cell_type": "code",
   "execution_count": null,
   "metadata": {},
   "outputs": [],
   "source": [
    "# Move spectator to view ego vehicle\n",
    "spectator = world.get_spectator() \n",
    "transform = carla.Transform(Ego_Vehicle.get_transform().transform(carla.Location(x=-25,z=10,y=0)),Ego_Vehicle.get_transform().rotation) \n",
    "spectator.set_transform(transform)"
   ]
  },
  {
   "cell_type": "code",
   "execution_count": null,
   "metadata": {},
   "outputs": [],
   "source": [
    "#get the bounding box location of Ego Vehicle\n",
    "box = Ego_Vehicle.bounding_box\n",
    "print(box.location)         # Location relative to the vehicle.\n",
    "print(box.extent)           # XYZ half-box extents in meters."
   ]
  },
  {
   "cell_type": "code",
   "execution_count": null,
   "metadata": {},
   "outputs": [],
   "source": [
    "#Get the location of the ego vehicle\n",
    "location = Ego_Vehicle.get_location()\n",
    "print(location)\n"
   ]
  },
  {
   "cell_type": "code",
   "execution_count": null,
   "metadata": {},
   "outputs": [],
   "source": [
    "##Selecting a random spawn point for the target vehicle\n",
    "spawnPoint1=carla.Transform(carla.Location(x=-10,y=0, z=0.598),carla.Rotation(pitch=0.0, yaw=0.0, roll=0.000000))"
   ]
  },
  {
   "cell_type": "code",
   "execution_count": null,
   "metadata": {},
   "outputs": [],
   "source": [
    "#Spawn Target vehicle\n",
    "Target_Vehicle_bp = bp_lib.find('vehicle.lincoln.mkz_2020') \n",
    "Target_Vehicle = world.try_spawn_actor(Target_Vehicle_bp, spawnPoint1)"
   ]
  },
  {
   "cell_type": "code",
   "execution_count": null,
   "metadata": {},
   "outputs": [],
   "source": []
  },
  {
   "cell_type": "code",
   "execution_count": null,
   "metadata": {},
   "outputs": [],
   "source": [
    "##get the bounding box location of Target Vehicle\n",
    "box1 = Target_Vehicle.bounding_box\n",
    "print(box.get_local_vertices)         # Location relative to the vehicle.\n",
    "print(box.extent) \n",
    "print(spawnPoint.location)  \n",
    "print(spawnPoint) \n",
    "print(carla.Transform(box.location))       # XYZ half-box extents in meters.\n",
    "if carla.BoundingBox.contains(box,spawnPoint.location,carla.Transform(box.location)):\n",
    "    print('True')"
   ]
  },
  {
   "cell_type": "code",
   "execution_count": null,
   "metadata": {},
   "outputs": [],
   "source": [
    "#Create a loop to update the location of the target vehicle\n",
    "Target_Vehicle.set_location(carla.Location(x=5,y=0, z=0.598))\n",
    "\n",
    "for i in range(5,20,2):\n",
    "    print(i)\n",
    "    for j in range(0,360,10):\n",
    "        location = Target_Vehicle.get_location()\n",
    "        #print(location)\n",
    "        location.x = i*math.sin(math.radians(j))\n",
    "        location.y = i*math.cos(math.radians(j))\n",
    "        Target_Vehicle.set_location(location)\n",
    "        time.sleep(0.1)\n"
   ]
  },
  {
   "cell_type": "code",
   "execution_count": null,
   "metadata": {},
   "outputs": [],
   "source": [
    "Target_Vehicle.destroy()"
   ]
  },
  {
   "cell_type": "code",
   "execution_count": null,
   "metadata": {},
   "outputs": [],
   "source": [
    "for actor in world.get_actors().filter('*vehicle*'):\n",
    "    actor.destroy()"
   ]
  },
  {
   "cell_type": "code",
   "execution_count": null,
   "metadata": {},
   "outputs": [],
   "source": [
    "def process_lidar_sematic(point_cloud):\n",
    "    # data.save_to_disk(parent_path + 'semantic-%06d.ply' % data.frame_number)\n",
    "    parent_path='/home/santhanam.17/Carla_scripts/point/'\n",
    "\n",
    "    #Extracting the raw data\n",
    "    data = np.frombuffer(point_cloud.raw_data, dtype=np.dtype([\n",
    "        ('x', np.float32), ('y', np.float32), ('z', np.float32),\n",
    "        ('CosAngle', np.float32), ('ObjIdx', np.uint32), ('ObjTag', np.uint32)]))\n",
    "    \n",
    "    data_updated=data[data['ObjTag']==10]\n",
    "    \n",
    "    points_temp = np.array([data_updated['x'], data_updated['y'], data_updated['z']]).T\n",
    "    point_list=o3d.geometry.PointCloud()\n",
    "    point_list.points = o3d.utility.Vector3dVector(points_temp)\n",
    "    o3d.io.write_point_cloud(\"/home/santhanam.17/Carla_scripts/point/\"+str(point_cloud.frame)+\".ply\", point_list)\n",
    "\n",
    "    #carla.LidarMeasurement.save_to_disk(points_new,\"/home/santhanam.17/Carla_scripts/point/a.ply\")\n",
    "    #print(points)\n",
    "\n"
   ]
  },
  {
   "cell_type": "markdown",
   "metadata": {},
   "source": [
    "visualize Vehicle point cloud using pcl -- next step()\n",
    "removal of dupilcate points\n",
    "Lidar Azimuth angle data (*position\") - Sloution C\n",
    "o3d to \n",
    "ros publish temporary -Solution B Velodyne64\n",
    "Full point "
   ]
  },
  {
   "cell_type": "code",
   "execution_count": null,
   "metadata": {},
   "outputs": [],
   "source": [
    "def start_lidar():\n",
    "    # --------------\n",
    "    # Add a new LIDAR sensor to my ego\n",
    "    lidar_bp = world.get_blueprint_library().find('sensor.lidar.ray_cast_semantic')\n",
    "    lidar_bp.set_attribute('channels',str(64))\n",
    "    lidar_bp.set_attribute('points_per_second',str(1000000))\n",
    "    lidar_bp.set_attribute('rotation_frequency',str(60))\n",
    "    lidar_bp.set_attribute('range',str(120))\n",
    "    lidar_bp.set_attribute('upper_fov',str(0))\n",
    "    lidar_bp.set_attribute('lower_fov',str(-30))\n",
    "    lidar_location = carla.Location(0,0,2.5)\n",
    "    lidar_rotation = carla.Rotation(0,0,0)\n",
    "    lidar_transform = carla.Transform(lidar_location,lidar_rotation)\n",
    "    lidar_sen = world.spawn_actor(lidar_bp,lidar_transform,attach_to=Ego_Vehicle)\n",
    "    #Turn on Lidar and start listening\n",
    "    lidar_sen.listen(lambda lidar_data: process_lidar_sematic(lidar_data))\n",
    "    #lidar_sen.listen(lambda point_cloud: point_cloud.save_to_disk('/home/santhanam.17/Carla_scripts/point/%.6d.ply' % point_cloud.frame))\n",
    "    time.sleep(1)\n",
    "    #Destro the lidar\n",
    "    lidar_sen.destroy()"
   ]
  },
  {
   "cell_type": "code",
   "execution_count": null,
   "metadata": {},
   "outputs": [],
   "source": [
    "def merge_ply():\n",
    "    # assign directory\n",
    "    directory = '/home/santhanam.17/Carla_scripts/point'\n",
    "    pcds=np.empty([1,3])\n",
    "\n",
    "    now = datetime.now()\n",
    "\n",
    "    current_time = now.strftime(\"%H:%M:%S\")\n",
    "\n",
    "    for filename in os.listdir(directory):\n",
    "        f = os.path.join(directory, filename)\n",
    "        # checking if it is a file\n",
    "        if os.path.isfile(f):\n",
    "            print(f)\n",
    "            pcd1 = o3d.io.read_point_cloud(f)\n",
    "            point_cloud_in_numpy = np.asarray(pcd1.points)\n",
    "            pcds =np.append(pcds,point_cloud_in_numpy,axis=0)\n",
    "            pcd = o3d.geometry.PointCloud()\n",
    "            pcd.points = o3d.utility.Vector3dVector(pcds)\n",
    "            os.remove(f)\n",
    "\n",
    "    o3d.io.write_point_cloud(\"/home/santhanam.17/Carla_scripts/processed/\"+str(current_time)+\"_Final_Point_cloud.ply\", pcd,write_ascii=True)\n",
    "    final_ply = o3d.io.read_point_cloud(\"/home/santhanam.17/Carla_scripts/processed/\"+str(current_time)+\"_Final_Point_cloud.ply\")\n",
    "    o3d.visualization.draw_geometries([final_ply])\n"
   ]
  },
  {
   "cell_type": "code",
   "execution_count": null,
   "metadata": {},
   "outputs": [],
   "source": [
    "start_lidar()\n",
    "merge_ply()"
   ]
  }
 ],
 "metadata": {
  "kernelspec": {
   "display_name": "Python 3.7.13 ('working')",
   "language": "python",
   "name": "python3"
  },
  "language_info": {
   "codemirror_mode": {
    "name": "ipython",
    "version": 3
   },
   "file_extension": ".py",
   "mimetype": "text/x-python",
   "name": "python",
   "nbconvert_exporter": "python",
   "pygments_lexer": "ipython3",
   "version": "3.7.13"
  },
  "orig_nbformat": 4,
  "vscode": {
   "interpreter": {
    "hash": "bcf777e2ff8130dfd2b1705e2d6bb8e79a39708afc967d659b402e6656d1d5ad"
   }
  }
 },
 "nbformat": 4,
 "nbformat_minor": 2
}
