{
 "cells": [
  {
   "cell_type": "code",
   "execution_count": 40,
   "metadata": {},
   "outputs": [],
   "source": [
    "\n",
    "## Import Carla and other packages\n",
    "import carla \n",
    "import math \n",
    "import random \n",
    "import time \n",
    "import numpy as np\n",
    "import cv2\n",
    "import open3d as o3d\n",
    "from matplotlib import cm\n",
    "import glob\n",
    "import os\n",
    "import sys\n",
    "import argparse\n",
    "from datetime import datetime\n",
    "import random\n",
    "import pickle\n",
    "\n"
   ]
  },
  {
   "cell_type": "code",
   "execution_count": 41,
   "metadata": {},
   "outputs": [],
   "source": [
    "\n",
    "# Connect the client and set up bp library and spawn point\n",
    "client = carla.Client('localhost', 2000)\n",
    "world = client.get_world()\n",
    "bp_lib = world.get_blueprint_library() \n",
    "spawn_points = world.get_map().get_spawn_points() "
   ]
  },
  {
   "cell_type": "code",
   "execution_count": 42,
   "metadata": {},
   "outputs": [],
   "source": [
    "#Unload all the unwaned things from the world\n",
    "\n",
    "world.unload_map_layer(carla.MapLayer.Foliage)\n",
    "world.unload_map_layer(carla.MapLayer.Buildings)\n",
    "world.unload_map_layer(carla.MapLayer.Decals)\n",
    "world.unload_map_layer(carla.MapLayer.ParkedVehicles)\n",
    "world.unload_map_layer(carla.MapLayer.Props)\n",
    "world.unload_map_layer(carla.MapLayer.StreetLights)\n",
    "world.unload_map_layer(carla.MapLayer.Walls)\n",
    "world.unload_map_layer(carla.MapLayer.Particles)\n",
    "world.load_map_layer(carla.MapLayer.Ground)"
   ]
  },
  {
   "cell_type": "code",
   "execution_count": 43,
   "metadata": {},
   "outputs": [],
   "source": [
    "##Selecting a spawn point for the ego vehicle\n",
    "spawnPoint=carla.Transform(carla.Location(x=0,y=0, z=0.598),carla.Rotation(pitch=0.0, yaw=0.0, roll=0.000000))\n",
    "#Spawn Ego vehicle\n",
    "Ego_Vehicle_bp = bp_lib.find('vehicle.lincoln.mkz_2020') \n",
    "Ego_Vehicle = world.try_spawn_actor(Ego_Vehicle_bp, spawnPoint)\n",
    "\n",
    "# Move spectator to view ego vehicle\n",
    "spectator = world.get_spectator() \n",
    "transform = carla.Transform(Ego_Vehicle.get_transform().transform(carla.Location(x=-25,z=10,y=0)),Ego_Vehicle.get_transform().rotation) \n",
    "spectator.set_transform(transform)"
   ]
  },
  {
   "cell_type": "code",
   "execution_count": 6,
   "metadata": {},
   "outputs": [],
   "source": [
    "spectator.set_transform(transform)"
   ]
  },
  {
   "cell_type": "code",
   "execution_count": 44,
   "metadata": {},
   "outputs": [],
   "source": [
    "##Selecting a random spawn point for the target vehicle\n",
    "spawnPoint1=carla.Transform(carla.Location(x=5,y=0, z=0.598),carla.Rotation(pitch=0.0, yaw=-45.0, roll=0.000000))\n",
    "#Spawn Target vehicle\n",
    "Target_Vehicle_bp = bp_lib.find('vehicle.lincoln.mkz_2020') \n",
    "Target_Vehicle = world.try_spawn_actor(Target_Vehicle_bp, spawnPoint1)\n"
   ]
  },
  {
   "cell_type": "code",
   "execution_count": 45,
   "metadata": {},
   "outputs": [
    {
     "data": {
      "text/plain": [
       "True"
      ]
     },
     "execution_count": 45,
     "metadata": {},
     "output_type": "execute_result"
    }
   ],
   "source": [
    "Target_Vehicle.destroy()"
   ]
  },
  {
   "cell_type": "code",
   "execution_count": null,
   "metadata": {},
   "outputs": [],
   "source": [
    "##get the bounding box location of Target Vehicle\n",
    "\"\"\"\n",
    "box1 = Target_Vehicle.bounding_box\n",
    "print(box.get_local_vertices)         # Location relative to the vehicle.\n",
    "print(box.extent) \n",
    "print(spawnPoint.location)  \n",
    "print(spawnPoint) \n",
    "print(carla.Transform(box.location))       # XYZ half-box extents in meters.\n",
    "if carla.BoundingBox.contains(box,spawnPoint.location,carla.Transform(box.location)):\n",
    "    print('True')\n",
    "\"\"\""
   ]
  },
  {
   "cell_type": "code",
   "execution_count": null,
   "metadata": {},
   "outputs": [],
   "source": [
    "for actor in world.get_actors().filter('*lidar*'):\n",
    "    actor.destroy()\n",
    "\n",
    "for actor in world.get_actors().filter('*vehicle*'):\n",
    "    actor.destroy()"
   ]
  },
  {
   "cell_type": "code",
   "execution_count": 38,
   "metadata": {},
   "outputs": [],
   "source": [
    "def process_lidar_sematic(point_cloud):\n",
    "    # data.save_to_disk(parent_path + 'semantic-%06d.ply' % data.frame_number)\n",
    "    parent_path='/home/santhanam.17/Carla_scripts/point/'\n",
    "\n",
    "    #Extracting the raw data\n",
    "    data = np.frombuffer(point_cloud.raw_data, dtype=np.dtype([\n",
    "        ('x', np.float32), ('y', np.float32), ('z', np.float32),\n",
    "        ('CosAngle', np.float32), ('ObjIdx', np.uint32), ('ObjTag', np.uint32)]))\n",
    "    \n",
    "    data_updated=data[data['ObjTag']==10]\n",
    "    \n",
    "    points_temp = np.array([data_updated['x'], data_updated['y'], data_updated['z']]).T\n",
    "    point_list=o3d.geometry.PointCloud()\n",
    "    point_list.points = o3d.utility.Vector3dVector(points_temp)\n",
    "    o3d.io.write_point_cloud(\"/home/santhanam.17/Carla_scripts/point/\"+str(point_cloud.frame)+\".ply\", point_list)\n",
    "\n",
    "    #carla.LidarMeasurement.save_to_disk(points_new,\"/home/santhanam.17/Carla_scripts/point/a.ply\")\n",
    "    #print(points)\n",
    "\n"
   ]
  },
  {
   "cell_type": "markdown",
   "metadata": {},
   "source": [
    "visualize Vehicle point cloud using pcl -- next step()\n",
    "removal of dupilcate points\n",
    "Lidar Azimuth angle data (*position\") - Sloution C\n",
    "o3d to \n",
    "ros publish temporary -Solution B Velodyne64\n",
    "Full point \n",
    "Work on ros node publish, and subscribe random query point\n",
    "merge point cloud  and publish \n",
    "capture rosbag and send the rosnode \n",
    "\n",
    "Generate table \n",
    "\n",
    "topic 1: background\n",
    "topic 2: query position 6 dof\n",
    "topic 3: combined pcl\n",
    "\n",
    "Algorithm to find the Manhattan distance between the points!\n",
    "\n",
    "\n",
    "visualize using rviz\n",
    "Issue:\n",
    "Generating dataset: 360*60 secs Notebook--- py file run in background ()\n",
    "[X,Y,Z] search in a list of 12000 points o(n)\n",
    "[1.1,2.3,3.4]- closest distance. [1,2,3] [8 points]\n",
    "\n",
    "Publish the pointcloud in ROS - done\n",
    "Create a dummy ROS Node : Should publish [X,Y,Z,Yaw] (Record and store) Should publish in global coordinate. (Target_vehicle) 10 hz\n",
    "\n",
    "Another node to subscribe to env pointcloud\n",
    "\n",
    "Node to subscribe to dummy node. and publish the point cloud.(emulated_pointcloud_pub)\n",
    "1)Closest point cloud using the (Target_vehicle)\n",
    "\n",
    "2)Rotate and translate [TO OVERCOME resolution error] [on ~5000 points] (Code to rotate and translate entire pointcloud) Translate on EGO vehicle and rotate around the target vehicle.\n",
    "\n",
    "3)Add this to the background \n",
    "\n",
    "4)Publish the RAW pointcloud\n",
    "\n",
    "different fixed frame issue.\n",
    "\n",
    "Carla lidar sensor horizontal angle (This is to reduce the lidar data collection time from 1 sec)\n",
    "\n",
    "\n",
    "\n",
    "\n",
    "\n",
    "\n"
   ]
  },
  {
   "cell_type": "code",
   "execution_count": 39,
   "metadata": {},
   "outputs": [],
   "source": [
    "def start_lidar():\n",
    "    # --------------\n",
    "    # Add a new LIDAR sensor to my ego\n",
    "    lidar_bp = world.get_blueprint_library().find('sensor.lidar.ray_cast_semantic')\n",
    "    lidar_bp.set_attribute('channels',str(64))\n",
    "    lidar_bp.set_attribute('points_per_second',str(1280000))\n",
    "    lidar_bp.set_attribute('rotation_frequency',str(10))\n",
    "    lidar_bp.set_attribute('range',str(120))\n",
    "    lidar_bp.set_attribute('upper_fov',str(0))\n",
    "    lidar_bp.set_attribute('lower_fov',str(-30))\n",
    "    lidar_location = carla.Location(0,0,2.5)\n",
    "    lidar_rotation = carla.Rotation(0,0,0)\n",
    "    lidar_transform = carla.Transform(lidar_location,lidar_rotation)\n",
    "    lidar_sen = world.spawn_actor(lidar_bp,lidar_transform,attach_to=Ego_Vehicle)\n",
    "    #Turn on Lidar and start listening\n",
    "    lidar_sen.listen(lambda lidar_data: process_lidar_sematic(lidar_data))\n",
    "    #lidar_sen.listen(lambda point_cloud: point_cloud.save_to_disk('/home/santhanam.17/Carla_scripts/point/%.6d.ply' % point_cloud.frame))\n",
    "    time.sleep(1)\n",
    "    #Destro the lidar\n",
    "    lidar_sen.destroy()"
   ]
  },
  {
   "cell_type": "code",
   "execution_count": null,
   "metadata": {},
   "outputs": [],
   "source": []
  },
  {
   "cell_type": "code",
   "execution_count": 40,
   "metadata": {},
   "outputs": [
    {
     "data": {
      "text/plain": [
       "True"
      ]
     },
     "execution_count": 40,
     "metadata": {},
     "output_type": "execute_result"
    }
   ],
   "source": [
    "# --------------\n",
    "# Add a new LIDAR sensor to my ego\n",
    "lidar_bp = world.get_blueprint_library().find('sensor.lidar.ray_cast_semantic')\n",
    "lidar_bp.set_attribute('channels',str(64))\n",
    "lidar_bp.set_attribute('points_per_second',str(1280000))\n",
    "lidar_bp.set_attribute('rotation_frequency',str(10))\n",
    "lidar_bp.set_attribute('range',str(120))\n",
    "lidar_bp.set_attribute('upper_fov',str(0))\n",
    "lidar_bp.set_attribute('lower_fov',str(-30))\n",
    "lidar_location = carla.Location(0,0,2.5)\n",
    "lidar_rotation = carla.Rotation(0,0,0)\n",
    "lidar_transform = carla.Transform(lidar_location,lidar_rotation)\n",
    "lidar_sen = world.spawn_actor(lidar_bp,lidar_transform,attach_to=Ego_Vehicle)\n",
    "#Turn on Lidar and start listening\n",
    "#lidar_sen.listen(lambda lidar_data: process_lidar_sematic(lidar_data))\n",
    "#lidar_sen.listen(lambda point_cloud: point_cloud.save_to_disk('/home/santhanam.17/Carla_scripts/point/%.6d.ply' % point_cloud.frame))\n",
    "#time.sleep(1)\n",
    "#Destro the lidar\n",
    "lidar_sen.destroy()"
   ]
  },
  {
   "cell_type": "code",
   "execution_count": 41,
   "metadata": {},
   "outputs": [],
   "source": [
    "def merge_ply():\n",
    "    # assign directory\n",
    "    directory = '/home/santhanam.17/Carla_scripts/point'\n",
    "    pcds=np.empty([1,3])\n",
    "\n",
    "    now = datetime.now()\n",
    "\n",
    "    current_time = now.strftime(\"%H:%M:%S\")\n",
    "\n",
    "    for filename in os.listdir(directory):\n",
    "        f = os.path.join(directory, filename)\n",
    "        # checking if it is a file\n",
    "        if os.path.isfile(f):\n",
    "            print(f)\n",
    "            pcd1 = o3d.io.read_point_cloud(f)\n",
    "            point_cloud_in_numpy = np.asarray(pcd1.points)\n",
    "            pcds =np.append(pcds,point_cloud_in_numpy,axis=0)\n",
    "            point_cloud = o3d.geometry.PointCloud()\n",
    "            point_cloud.points = o3d.utility.Vector3dVector(pcds)\n",
    "            os.remove(f)\n",
    "\n",
    "    #o3d.io.write_point_cloud(\"/home/santhanam.17/Carla_scripts/processed/\"+str(current_time)+\"_Final_Point_cloud.ply\", point_cloud,write_ascii=True)\n",
    "    #final_ply = o3d.io.read_point_cloud(\"/home/santhanam.17/Carla_scripts/processed/\"+str(current_time)+\"_sync.ply\")\n",
    "    #o3d.visualization.draw_geometries([final_ply])\n",
    "\n",
    "    return point_cloud\n"
   ]
  },
  {
   "cell_type": "code",
   "execution_count": null,
   "metadata": {},
   "outputs": [],
   "source": [
    "transform=Target_Vehicle.get_transform()\n",
    "key_tuple=(transform.location.x,transform.location.y,transform.location.z\\\n",
    "            ,transform.rotation.pitch,transform.rotation.yaw,transform.rotation.roll)\n",
    "print(key_tuple)"
   ]
  },
  {
   "cell_type": "code",
   "execution_count": null,
   "metadata": {},
   "outputs": [],
   "source": [
    "def pointcloud_gen():\n",
    "    #Create a loop to update the location of the target vehicle\n",
    "    Target_Vehicle.set_transform(carla.Transform(carla.Location(x=5,y=0, z=0.598),carla.Rotation(pitch=0.0, yaw=0.0, roll=0.000000)))\n",
    "\n",
    "    dict={}\n",
    "\n",
    "    for i in range(5,30,1):\n",
    "        print(i)\n",
    "        for j in range(0,360,1):\n",
    "\n",
    "            transform=Target_Vehicle.get_transform()\n",
    "            transform.location.x = i*math.sin(math.radians(j))\n",
    "            transform.location.y = i*math.cos(math.radians(j))\n",
    "            Target_Vehicle.set_transform(transform)\n",
    "            #key_tuple=(transform.location.x,transform.location.y,transform.location.z\\\n",
    "                #,transform.rotation.pitch,transform.rotation.yaw,transform.rotation.roll)\n",
    "            key_tuple=(transform.location.x,transform.location.y,transform.location.z\\\n",
    "            ,i)\n",
    "            start_lidar()\n",
    "            point_cloud=merge_ply()\n",
    "            point_cloud_in_numpy = np.asarray(point_cloud.points)\n",
    "            dict.update({key_tuple:point_cloud_in_numpy})\n",
    "\n",
    "\n",
    "\n",
    "    with open('/home/santhanam.17/Carla_scripts/point_cloud_database.pickle', 'wb') as handle:\n",
    "        pickle.dump(dict, handle, protocol=pickle.HIGHEST_PROTOCOL)"
   ]
  },
  {
   "cell_type": "code",
   "execution_count": null,
   "metadata": {},
   "outputs": [],
   "source": [
    "pointcloud_gen()"
   ]
  },
  {
   "cell_type": "code",
   "execution_count": null,
   "metadata": {},
   "outputs": [],
   "source": [
    "\n",
    "print(b)"
   ]
  },
  {
   "cell_type": "code",
   "execution_count": null,
   "metadata": {},
   "outputs": [],
   "source": [
    "print(len(dict))"
   ]
  },
  {
   "cell_type": "code",
   "execution_count": null,
   "metadata": {},
   "outputs": [],
   "source": [
    "final_ply = o3d.io.read_point_cloud(\"/home/santhanam.17/Carla_scripts/processed/04:58:25_Final_Point_cloud.ply\")\n",
    "o3d.visualization.draw_geometries([final_ply])\n"
   ]
  },
  {
   "cell_type": "code",
   "execution_count": 60,
   "metadata": {},
   "outputs": [],
   "source": [
    "st = time.time()\n",
    "with open('/home/santhanam.17/Carla_scripts/point_cloud_database_main_optimized.pickle', 'rb') as handle:\n",
    "    read_dict = pickle.load(handle)\n",
    "et= time.time()\n",
    "x=list(read_dict.keys())\n",
    "pcd =read_dict[x[0]]\n",
    "#print(read_dict.keys())\n"
   ]
  },
  {
   "cell_type": "code",
   "execution_count": 63,
   "metadata": {},
   "outputs": [
    {
     "name": "stdout",
     "output_type": "stream",
     "text": [
      "41760\n",
      "-0.27547359466552734\n",
      "(120.0, 7.347880374357178e-15, 0.1439078152179718, 179.0, 120)\n"
     ]
    }
   ],
   "source": [
    "print(len(read_dict))\n",
    "print(st-et)\n",
    "print(x[41759])\n",
    "#print(x[281879])"
   ]
  },
  {
   "cell_type": "code",
   "execution_count": null,
   "metadata": {},
   "outputs": [],
   "source": [
    "import time\n",
    "\n",
    "st = time.time()\n",
    "with open('/home/santhanam.17/Carla_scripts/filename.pickle', 'rb') as handle:\n",
    "    read_dict = pickle.load(handle)\n",
    "et= time.time()\n",
    "x=list(read_dict.keys())\n",
    "pcd =read_dict[x[0]]\n",
    "\n",
    "point_cloud = o3d.geometry.PointCloud()\n",
    "point_cloud.points = o3d.utility.Vector3dVector(pcd)\n",
    "\n",
    "elapsed_time = et - st\n",
    "print('Execution time:', elapsed_time, 'seconds')\n",
    "#o3d.visualization.draw_geometries([point_cloud])\n",
    "#print(pcd)\n",
    "\n",
    "pcd1 = o3d.io.read_point_cloud(\"/home/santhanam.17/Carla_scripts/processed/06:36:53sync.ply\")\n",
    "point_cloud_in_numpy = np.asarray(pcd1.points)\n",
    "print(point_cloud_in_numpy)"
   ]
  },
  {
   "cell_type": "code",
   "execution_count": null,
   "metadata": {},
   "outputs": [],
   "source": [
    "def add_open3d_axis(vis):\n",
    "    \"\"\"Add a small 3D axis on Open3D Visualizer\"\"\"\n",
    "    axis = o3d.geometry.LineSet()\n",
    "    axis.points = o3d.utility.Vector3dVector(np.array([\n",
    "        [0.0, 0.0, 0.0],\n",
    "        [1.0, 0.0, 0.0],\n",
    "        [0.0, 1.0, 0.0],\n",
    "        [0.0, 0.0, 1.0]]))\n",
    "    axis.lines = o3d.utility.Vector2iVector(np.array([\n",
    "        [0, 1],\n",
    "        [0, 2],\n",
    "        [0, 3]]))\n",
    "    axis.colors = o3d.utility.Vector3dVector(np.array([\n",
    "        [1.0, 0.0, 0.0],\n",
    "        [0.0, 1.0, 0.0],\n",
    "        [0.0, 0.0, 1.0]]))\n",
    "    vis.add_geometry(axis)"
   ]
  },
  {
   "cell_type": "code",
   "execution_count": null,
   "metadata": {},
   "outputs": [],
   "source": [
    "\n",
    "vis = o3d.visualization.Visualizer()\n",
    "vis.create_window(\n",
    "    window_name='Carla Lidar',\n",
    "    width=1920,\n",
    "    height=1080,\n",
    "    left=50,\n",
    "    top=50)\n",
    "vis.get_render_option().background_color = [0.05, 0.05, 0.05]\n",
    "vis.get_render_option().point_size = 1\n",
    "vis.get_render_option().show_coordinate_frame = True\n",
    "\n",
    "add_open3d_axis(vis)\n",
    "for item in read_dict.values():\n",
    "    print(item)\n",
    "    point_cloud = o3d.geometry.PointCloud()\n",
    "    point_cloud.points = o3d.utility.Vector3dVector(item)\n",
    "    vis.add_geometry(point_cloud)\n",
    "    vis.update_geometry(point_cloud)\n",
    "    vis.poll_events()\n",
    "    vis.update_renderer()\n",
    "    time.sleep(0.5)\n",
    "    vis.remove_geometry(point_cloud)\n",
    "\n",
    "vis.destroy_window()"
   ]
  },
  {
   "cell_type": "code",
   "execution_count": null,
   "metadata": {},
   "outputs": [],
   "source": []
  }
 ],
 "metadata": {
  "kernelspec": {
   "display_name": "Python 3.7.13 ('working')",
   "language": "python",
   "name": "python3"
  },
  "language_info": {
   "codemirror_mode": {
    "name": "ipython",
    "version": 3
   },
   "file_extension": ".py",
   "mimetype": "text/x-python",
   "name": "python",
   "nbconvert_exporter": "python",
   "pygments_lexer": "ipython3",
   "version": "3.7.13"
  },
  "orig_nbformat": 4,
  "vscode": {
   "interpreter": {
    "hash": "bcf777e2ff8130dfd2b1705e2d6bb8e79a39708afc967d659b402e6656d1d5ad"
   }
  }
 },
 "nbformat": 4,
 "nbformat_minor": 2
}
